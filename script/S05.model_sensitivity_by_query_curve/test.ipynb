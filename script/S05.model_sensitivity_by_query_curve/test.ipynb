{
 "cells": [
  {
   "cell_type": "code",
   "execution_count": null,
   "metadata": {},
   "outputs": [],
   "source": [
    "\n"
   ]
  },
  {
   "cell_type": "code",
   "execution_count": 3,
   "metadata": {},
   "outputs": [
    {
     "data": {
      "application/vnd.jupyter.widget-view+json": {
       "model_id": "d1f6c62cfc884b00bbb488f3e8ed0840",
       "version_major": 2,
       "version_minor": 0
      },
      "text/plain": [
       "  0%|          | 0/2681 [00:00<?, ?it/s]"
      ]
     },
     "metadata": {},
     "output_type": "display_data"
    },
    {
     "data": {
      "application/vnd.jupyter.widget-view+json": {
       "model_id": "7d82e540bace4822b8e253c1dc7d28af",
       "version_major": 2,
       "version_minor": 0
      },
      "text/plain": [
       "  0%|          | 0/2681 [00:00<?, ?it/s]"
      ]
     },
     "metadata": {},
     "output_type": "display_data"
    }
   ],
   "source": [
    "# %%\n",
    "import numpy as np\n",
    "import pandas as pd\n",
    "from tqdm.auto import tqdm\n",
    "from scipy.stats import pearsonr, spearmanr\n",
    "import h3pandas\n",
    "import matplotlib.pyplot as plt\n",
    "import statsmodels.api as sm\n",
    "import pickle\n",
    "import arviz as az\n",
    "import pymc as pm\n",
    "import pymc.sampling.jax as pmjax\n",
    "import jax\n",
    "# import tensorflow_probability.substrates.jax as tfp\n",
    "# jax.scipy.special.erfcx = tfp.math.erfcx\n",
    "from fastprogress.fastprogress import master_bar, progress_bar\n",
    "from fastprogress.fastprogress import force_console_behavior\n",
    "master_bar, progress_bar = force_console_behavior()\n",
    "import pytensor.tensor as pt\n",
    "import re\n",
    "from warnings import filterwarnings\n",
    "import matplotlib.colors as colors\n",
    "from sklearn.preprocessing import LabelEncoder\n",
    "import geopandas as gpd \n",
    "import sys\n",
    "import os\n",
    "\n",
    "filterwarnings('ignore')\n",
    "tqdm.pandas()\n",
    "\n",
    "from utils_GreenWave_BirdWave_corr_BYM2 import *\n",
    "# from utils_longterm_phenological_shift_BYM2 import build_model_longterm_trend\n",
    "\n",
    "\n",
    "trophic_niche = 'all' #sys.argv[1] #'all'#sys.argv[1]\n",
    "season = 'spring'\n",
    "target_var ='delta_NDVI' #sys.argv[2] #'delta_NDVI'\n",
    "\n",
    "comb = pd.read_csv(f'../../data/D05.greentrace_thermotrace/{trophic_niche}_curve_query.csv')\n",
    "comb = comb[comb['season']==season]\n",
    "comb = comb.set_index('h3_02').h3.h3_to_geo_boundary().reset_index(drop=False)\n",
    "comb = comb[comb.area<200]\n",
    "\n",
    "comb = comb.dropna(subset=['mu_ARR', 'std_ARR',\n",
    "                           f'mean_expected_trace_by_{target_var}',f'std_expected_trace_by_{target_var}'])\n",
    "\n",
    "\n",
    "# %%\n",
    "def get_centered(df, var_='mu_ARR'):\n",
    "    df[f'centered_{var_}'] = df[var_]-df[var_].mean()\n",
    "    return df\n",
    "\n",
    "comb = comb.groupby('h3_02').apply(get_centered, var_='mu_ARR').reset_index(drop=True)\n",
    "comb = comb.groupby('h3_02').apply(get_centered, var_=f'mean_expected_trace_by_{target_var}').reset_index(drop=True)\n",
    "\n",
    "#############\n",
    "univ_cell = get_univ_cell(comb)\n",
    "\n",
    "###\n",
    "univ_cell = univ_cell[(univ_cell.lng>=comb.lng.min()) & (univ_cell.lng<=comb.lng.max()) & \\\n",
    "        (univ_cell.lat>=comb.lat.min()) & (univ_cell.lat<=comb.lat.max())]\n",
    "comb = comb[comb['h3_02'].isin(set(univ_cell.index))]\n",
    "\n",
    "\n",
    "###\n",
    "adj_mat = calculat_adj_mat(univ_cell)\n",
    "univ_cell = univ_cell.reset_index(drop=False)\n",
    "cell_encoder = LabelEncoder().fit(univ_cell['h3_02'])\n",
    "univ_cell['cell_index'] = cell_encoder.transform(univ_cell['h3_02'])\n",
    "comb['cell_index'] = cell_encoder.transform(comb['h3_02'])\n",
    "year_encoder = LabelEncoder().fit(comb['year'])\n",
    "comb['year_index'] = year_encoder.transform(comb['year'])\n",
    "univ_pairs_adj_df = get_pair_df_from_df(univ_cell, adj_mat)\n"
   ]
  },
  {
   "cell_type": "code",
   "execution_count": 8,
   "metadata": {},
   "outputs": [
    {
     "data": {
      "text/plain": [
       "array([-5., -4., -3., -2., -1.,  0.,  1.,  2.,  3.,  4.,  5.])"
      ]
     },
     "execution_count": 8,
     "metadata": {},
     "output_type": "execute_result"
    }
   ],
   "source": [
    "\n"
   ]
  },
  {
   "cell_type": "code",
   "execution_count": null,
   "metadata": {},
   "outputs": [],
   "source": [
    "\n",
    "\n",
    "\n",
    "# %%\n",
    "model = build_model_year_effect(comb, univ_cell, univ_pairs_adj_df, target_var)\n",
    "\n",
    "# with model:\n",
    "#     idata = pm.sampling.jax.sample_numpyro_nuts(1000, #random_seed = 42,\n",
    "#                                     chains=4,tune=1000, \n",
    "#                                     progressbar=True)\n",
    "\n",
    "idata = Run_Model(model, saving_path=f'../../data/D06.BYM2_results_query_curve/{trophic_niche}_{target_var}_sensitivity_year_effect.pkl',\n",
    "                  max_iter=8, max_tune=100000, SAMPLE_SIZE=2000, TUNES=2000,\n",
    "                must_converge_var=['beta_year','mu_alpha','mu_beta','logit_rho_beta_BYM2_component','beta_lat',\n",
    "                                             'scaling_factor_ICAR_beta_BYM2_component','sigma_alpha',\n",
    "                                             'beta_sigma_phi_BYM2','sigma_error','rho_ICAR_beta_BYM2_component'], \n",
    "                almost_converge_var=['env_date','theta_alpha',\n",
    "                                        'phi_ICAR_beta_BYM2_component','theta_ICAR_beta_BYM2_component','theta_error',\n",
    "                                        'alpha','beta','convolved_re_beta_BYM2_component',\n",
    "                                        'arrival_true'])\n",
    "\n",
    "# Save the whole package of variables for modeling\n",
    "with open(f'../../data/D06.BYM2_results_query_curve/modeling_package_{trophic_niche}_{target_var}_sensitivity_year_effect.pkl','wb') as f:\n",
    "    pickle.dump([comb, univ_cell, univ_pairs_adj_df],f)\n",
    "\n",
    "\n",
    "\n",
    "\n"
   ]
  },
  {
   "cell_type": "code",
   "execution_count": null,
   "metadata": {},
   "outputs": [],
   "source": []
  },
  {
   "cell_type": "code",
   "execution_count": null,
   "metadata": {},
   "outputs": [],
   "source": []
  },
  {
   "cell_type": "code",
   "execution_count": null,
   "metadata": {},
   "outputs": [],
   "source": []
  },
  {
   "cell_type": "code",
   "execution_count": null,
   "metadata": {},
   "outputs": [],
   "source": []
  }
 ],
 "metadata": {
  "kernelspec": {
   "display_name": "base",
   "language": "python",
   "name": "python3"
  },
  "language_info": {
   "codemirror_mode": {
    "name": "ipython",
    "version": 3
   },
   "file_extension": ".py",
   "mimetype": "text/x-python",
   "name": "python",
   "nbconvert_exporter": "python",
   "pygments_lexer": "ipython3",
   "version": "3.9.13"
  }
 },
 "nbformat": 4,
 "nbformat_minor": 2
}
