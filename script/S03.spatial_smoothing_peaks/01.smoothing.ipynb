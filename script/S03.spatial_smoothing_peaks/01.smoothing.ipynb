{
 "cells": [
  {
   "cell_type": "code",
   "execution_count": 2,
   "metadata": {},
   "outputs": [],
   "source": [
    "import numpy as np\n",
    "import pandas as pd\n",
    "from tqdm.auto import tqdm\n",
    "from scipy.stats import pearsonr, spearmanr\n",
    "import h3pandas\n",
    "import matplotlib.pyplot as plt\n",
    "import statsmodels.api as sm\n",
    "import pickle\n",
    "import arviz as az\n",
    "import pymc as pm\n",
    "import pymc.sampling.jax as pmjax\n",
    "import jax\n",
    "\n",
    "from fastprogress.fastprogress import master_bar, progress_bar\n",
    "from fastprogress.fastprogress import force_console_behavior\n",
    "master_bar, progress_bar = force_console_behavior()\n",
    "import pytensor.tensor as pt\n",
    "import re\n",
    "from warnings import filterwarnings\n",
    "import matplotlib.colors as colors\n",
    "from sklearn.preprocessing import LabelEncoder\n",
    "import geopandas as gpd \n",
    "import sys\n",
    "import os\n",
    "\n",
    "filterwarnings('ignore')\n",
    "tqdm.pandas()\n",
    "\n",
    "from utils import *\n"
   ]
  },
  {
   "cell_type": "code",
   "execution_count": 5,
   "metadata": {},
   "outputs": [],
   "source": [
    "target_niche = 'all'\n",
    "target_season = 'spring'\n"
   ]
  },
  {
   "cell_type": "code",
   "execution_count": 6,
   "metadata": {},
   "outputs": [],
   "source": [
    "## 01.Load data\n",
    "data = pd.read_csv('../../data/D02.wave_peak/all_birdwave_greenwave_peak.csv')\n",
    "data = data[(data['niche_or_level']==target_niche) & (data['season']==target_season)]\n",
    "data = data[data['lat']>0] # North Hemisphere only\n",
    "\n",
    "data = data.dropna(subset = ['mean_DOY_peak','std_DOY_peak'])\n",
    "data = data[(data['std_DOY_peak'] > 0) & (data['std_DOY_peak'] <= 40)]\n",
    "\n"
   ]
  },
  {
   "cell_type": "code",
   "execution_count": 7,
   "metadata": {},
   "outputs": [],
   "source": [
    "data = data.set_index('h3_02').h3.h3_to_geo_boundary().reset_index(drop=False)\n",
    "data = data[data.area<200]\n"
   ]
  },
  {
   "cell_type": "code",
   "execution_count": 8,
   "metadata": {},
   "outputs": [
    {
     "data": {
      "application/vnd.jupyter.widget-view+json": {
       "model_id": "4a591b9dd662468686c50b819f6c8afb",
       "version_major": 2,
       "version_minor": 0
      },
      "text/plain": [
       "  0%|          | 0/2757 [00:00<?, ?it/s]"
      ]
     },
     "metadata": {},
     "output_type": "display_data"
    },
    {
     "data": {
      "application/vnd.jupyter.widget-view+json": {
       "model_id": "0563f2041a3b4ec497fa91672ccf7cdc",
       "version_major": 2,
       "version_minor": 0
      },
      "text/plain": [
       "  0%|          | 0/2757 [00:00<?, ?it/s]"
      ]
     },
     "metadata": {},
     "output_type": "display_data"
    },
    {
     "ename": "KeyboardInterrupt",
     "evalue": "",
     "output_type": "error",
     "traceback": [
      "\u001b[0;31m---------------------------------------------------------------------------\u001b[0m",
      "\u001b[0;31mKeyboardInterrupt\u001b[0m                         Traceback (most recent call last)",
      "Cell \u001b[0;32mIn [8], line 19\u001b[0m\n\u001b[1;32m     16\u001b[0m data[\u001b[38;5;124m'\u001b[39m\u001b[38;5;124myear_index\u001b[39m\u001b[38;5;124m'\u001b[39m] \u001b[38;5;241m=\u001b[39m year_encoder\u001b[38;5;241m.\u001b[39mtransform(data[\u001b[38;5;124m'\u001b[39m\u001b[38;5;124myear\u001b[39m\u001b[38;5;124m'\u001b[39m])\n\u001b[1;32m     18\u001b[0m \u001b[38;5;66;03m# transform adj mat to pairs\u001b[39;00m\n\u001b[0;32m---> 19\u001b[0m univ_pairs_adj_df \u001b[38;5;241m=\u001b[39m \u001b[43mget_pair_df_from_df\u001b[49m\u001b[43m(\u001b[49m\u001b[43muniv_cell\u001b[49m\u001b[43m,\u001b[49m\u001b[43m \u001b[49m\u001b[43madj_mat\u001b[49m\u001b[43m)\u001b[49m\n",
      "File \u001b[0;32m/beegfs/store4/chenyangkang/06.ebird_data/46.Seasonal_Diversity/13.Resort_Code_and_Data/script/S03.spatial_smoothing_peaks/utils.py:81\u001b[0m, in \u001b[0;36mget_pair_df_from_df\u001b[0;34m(tmp, mat)\u001b[0m\n\u001b[1;32m     79\u001b[0m \u001b[38;5;28;01mfor\u001b[39;00m index1, line1 \u001b[38;5;129;01min\u001b[39;00m tqdm(tmp[[\u001b[38;5;124m'\u001b[39m\u001b[38;5;124mcell_index\u001b[39m\u001b[38;5;124m'\u001b[39m, \u001b[38;5;124m'\u001b[39m\u001b[38;5;124mh3_02\u001b[39m\u001b[38;5;124m'\u001b[39m]]\u001b[38;5;241m.\u001b[39mdrop_duplicates()\u001b[38;5;241m.\u001b[39mreset_index(drop\u001b[38;5;241m=\u001b[39m\u001b[38;5;28;01mTrue\u001b[39;00m)\u001b[38;5;241m.\u001b[39miterrows(), total\u001b[38;5;241m=\u001b[39m\u001b[38;5;28mlen\u001b[39m(tmp)):\n\u001b[1;32m     80\u001b[0m     \u001b[38;5;28;01mfor\u001b[39;00m index2, line2 \u001b[38;5;129;01min\u001b[39;00m tmp[[\u001b[38;5;124m'\u001b[39m\u001b[38;5;124mcell_index\u001b[39m\u001b[38;5;124m'\u001b[39m, \u001b[38;5;124m'\u001b[39m\u001b[38;5;124mh3_02\u001b[39m\u001b[38;5;124m'\u001b[39m]]\u001b[38;5;241m.\u001b[39mdrop_duplicates()\u001b[38;5;241m.\u001b[39mreset_index(drop\u001b[38;5;241m=\u001b[39m\u001b[38;5;28;01mTrue\u001b[39;00m)\u001b[38;5;241m.\u001b[39miloc[index1:,:]\u001b[38;5;241m.\u001b[39miterrows():\n\u001b[0;32m---> 81\u001b[0m         \u001b[38;5;28;01mif\u001b[39;00m (line1[\u001b[38;5;124m'\u001b[39m\u001b[38;5;124mh3_02\u001b[39m\u001b[38;5;124m'\u001b[39m]\u001b[38;5;241m!=\u001b[39mline2[\u001b[38;5;124m'\u001b[39m\u001b[38;5;124mh3_02\u001b[39m\u001b[38;5;124m'\u001b[39m]) \u001b[38;5;129;01mand\u001b[39;00m (\u001b[43mmat\u001b[49m\u001b[38;5;241;43m.\u001b[39;49m\u001b[43mloc\u001b[49m\u001b[43m[\u001b[49m\u001b[43mline1\u001b[49m\u001b[43m[\u001b[49m\u001b[38;5;124;43m'\u001b[39;49m\u001b[38;5;124;43mh3_02\u001b[39;49m\u001b[38;5;124;43m'\u001b[39;49m\u001b[43m]\u001b[49m\u001b[43m,\u001b[49m\u001b[43m \u001b[49m\u001b[43mline2\u001b[49m\u001b[43m[\u001b[49m\u001b[38;5;124;43m'\u001b[39;49m\u001b[38;5;124;43mh3_02\u001b[39;49m\u001b[38;5;124;43m'\u001b[39;49m\u001b[43m]\u001b[49m\u001b[43m]\u001b[49m\u001b[38;5;241m==\u001b[39m\u001b[38;5;241m1\u001b[39m):\n\u001b[1;32m     82\u001b[0m             adj_pairs_df\u001b[38;5;241m.\u001b[39mappend({\n\u001b[1;32m     83\u001b[0m                 \u001b[38;5;124m'\u001b[39m\u001b[38;5;124mcell1\u001b[39m\u001b[38;5;124m'\u001b[39m:line1[\u001b[38;5;124m'\u001b[39m\u001b[38;5;124mcell_index\u001b[39m\u001b[38;5;124m'\u001b[39m],\n\u001b[1;32m     84\u001b[0m                 \u001b[38;5;124m'\u001b[39m\u001b[38;5;124mcell2\u001b[39m\u001b[38;5;124m'\u001b[39m:line2[\u001b[38;5;124m'\u001b[39m\u001b[38;5;124mcell_index\u001b[39m\u001b[38;5;124m'\u001b[39m],\n\u001b[1;32m     85\u001b[0m             })\n\u001b[1;32m     87\u001b[0m adj_pairs_df \u001b[38;5;241m=\u001b[39m pd\u001b[38;5;241m.\u001b[39mDataFrame(adj_pairs_df)        \n",
      "File \u001b[0;32m/beegfs/store4/chenyangkang/miniconda3/lib/python3.9/site-packages/pandas/core/indexing.py:1180\u001b[0m, in \u001b[0;36m_LocationIndexer.__getitem__\u001b[0;34m(self, key)\u001b[0m\n\u001b[1;32m   1178\u001b[0m check_dict_or_set_indexers(key)\n\u001b[1;32m   1179\u001b[0m \u001b[38;5;28;01mif\u001b[39;00m \u001b[38;5;28mtype\u001b[39m(key) \u001b[38;5;129;01mis\u001b[39;00m \u001b[38;5;28mtuple\u001b[39m:\n\u001b[0;32m-> 1180\u001b[0m     key \u001b[38;5;241m=\u001b[39m \u001b[38;5;28;43mtuple\u001b[39;49m\u001b[43m(\u001b[49m\u001b[38;5;28;43mlist\u001b[39;49m\u001b[43m(\u001b[49m\u001b[43mx\u001b[49m\u001b[43m)\u001b[49m\u001b[43m \u001b[49m\u001b[38;5;28;43;01mif\u001b[39;49;00m\u001b[43m \u001b[49m\u001b[43mis_iterator\u001b[49m\u001b[43m(\u001b[49m\u001b[43mx\u001b[49m\u001b[43m)\u001b[49m\u001b[43m \u001b[49m\u001b[38;5;28;43;01melse\u001b[39;49;00m\u001b[43m \u001b[49m\u001b[43mx\u001b[49m\u001b[43m \u001b[49m\u001b[38;5;28;43;01mfor\u001b[39;49;00m\u001b[43m \u001b[49m\u001b[43mx\u001b[49m\u001b[43m \u001b[49m\u001b[38;5;129;43;01min\u001b[39;49;00m\u001b[43m \u001b[49m\u001b[43mkey\u001b[49m\u001b[43m)\u001b[49m\n\u001b[1;32m   1181\u001b[0m     key \u001b[38;5;241m=\u001b[39m \u001b[38;5;28mtuple\u001b[39m(com\u001b[38;5;241m.\u001b[39mapply_if_callable(x, \u001b[38;5;28mself\u001b[39m\u001b[38;5;241m.\u001b[39mobj) \u001b[38;5;28;01mfor\u001b[39;00m x \u001b[38;5;129;01min\u001b[39;00m key)\n\u001b[1;32m   1182\u001b[0m     \u001b[38;5;28;01mif\u001b[39;00m \u001b[38;5;28mself\u001b[39m\u001b[38;5;241m.\u001b[39m_is_scalar_access(key):\n",
      "File \u001b[0;32m/beegfs/store4/chenyangkang/miniconda3/lib/python3.9/site-packages/pandas/core/indexing.py:1180\u001b[0m, in \u001b[0;36m<genexpr>\u001b[0;34m(.0)\u001b[0m\n\u001b[1;32m   1178\u001b[0m check_dict_or_set_indexers(key)\n\u001b[1;32m   1179\u001b[0m \u001b[38;5;28;01mif\u001b[39;00m \u001b[38;5;28mtype\u001b[39m(key) \u001b[38;5;129;01mis\u001b[39;00m \u001b[38;5;28mtuple\u001b[39m:\n\u001b[0;32m-> 1180\u001b[0m     key \u001b[38;5;241m=\u001b[39m \u001b[38;5;28mtuple\u001b[39m(\u001b[38;5;28mlist\u001b[39m(x) \u001b[38;5;28;01mif\u001b[39;00m is_iterator(x) \u001b[38;5;28;01melse\u001b[39;00m x \u001b[38;5;28;01mfor\u001b[39;00m x \u001b[38;5;129;01min\u001b[39;00m key)\n\u001b[1;32m   1181\u001b[0m     key \u001b[38;5;241m=\u001b[39m \u001b[38;5;28mtuple\u001b[39m(com\u001b[38;5;241m.\u001b[39mapply_if_callable(x, \u001b[38;5;28mself\u001b[39m\u001b[38;5;241m.\u001b[39mobj) \u001b[38;5;28;01mfor\u001b[39;00m x \u001b[38;5;129;01min\u001b[39;00m key)\n\u001b[1;32m   1182\u001b[0m     \u001b[38;5;28;01mif\u001b[39;00m \u001b[38;5;28mself\u001b[39m\u001b[38;5;241m.\u001b[39m_is_scalar_access(key):\n",
      "\u001b[0;31mKeyboardInterrupt\u001b[0m: "
     ]
    }
   ],
   "source": [
    "# Get univ cell\n",
    "univ_cell = get_univ_cell(data)\n",
    "univ_cell = univ_cell[(univ_cell.lng>=data.lng.min()) & (univ_cell.lng<=data.lng.max()) & \\\n",
    "        (univ_cell.lat>=data.lat.min()) & (univ_cell.lat<=data.lat.max())]\n",
    "data = data[data['h3_02'].isin(set(univ_cell.index))]\n",
    "\n",
    "# Get adj mat\n",
    "adj_mat = calculat_adj_mat(univ_cell)\n",
    "univ_cell = univ_cell.reset_index(drop=False)\n",
    "\n",
    "# Encode cell index and year index\n",
    "cell_encoder = LabelEncoder().fit(univ_cell['h3_02'])\n",
    "univ_cell['cell_index'] = cell_encoder.transform(univ_cell['h3_02'])\n",
    "data['cell_index'] = cell_encoder.transform(data['h3_02'])\n",
    "year_encoder = LabelEncoder().fit(data['year'])\n",
    "data['year_index'] = year_encoder.transform(data['year'])\n",
    "\n",
    "# transform adj mat to pairs\n",
    "univ_pairs_adj_df = get_pair_df_from_df(univ_cell, adj_mat)\n"
   ]
  },
  {
   "cell_type": "markdown",
   "metadata": {},
   "source": [
    "## 02.Spatial smoothing the migration arrival"
   ]
  },
  {
   "cell_type": "code",
   "execution_count": null,
   "metadata": {},
   "outputs": [],
   "source": [
    "model = build_model_smoothing(data, univ_cell, univ_pairs_adj_df)\n",
    "idata = Run_Model(model, saving_path='../../data/D03.smoothed_peaks/', max_iter=4, max_tune=20000, SAMPLE_SIZE=1000, TUNES=1000)\n"
   ]
  },
  {
   "cell_type": "code",
   "execution_count": null,
   "metadata": {},
   "outputs": [],
   "source": [
    "# with model:\n",
    "#     post_samples = pm.sample_posterior_predictive(idata)\n",
    "    "
   ]
  },
  {
   "cell_type": "code",
   "execution_count": null,
   "metadata": {},
   "outputs": [],
   "source": [
    "data['mu_ARR'] = np.concatenate(post_samples.posterior_predictive['ARR_obs'], axis=0).mean(axis=0)\n",
    "data['std_ARR'] = np.concatenate(post_samples.posterior_predictive['ARR_obs'], axis=0).std(axis=0)"
   ]
  },
  {
   "cell_type": "code",
   "execution_count": null,
   "metadata": {},
   "outputs": [],
   "source": [
    "data = data.groupby('h3_02').apply(get_centered_value, name='mu_ARR').reset_index(drop=True)"
   ]
  },
  {
   "cell_type": "code",
   "execution_count": null,
   "metadata": {},
   "outputs": [],
   "source": [
    "data.to_csv(f'../../data/D03.smoothed_peaks/smoothed_{target_niche}_{target_season}.csv')\n"
   ]
  },
  {
   "cell_type": "code",
   "execution_count": null,
   "metadata": {},
   "outputs": [],
   "source": []
  },
  {
   "cell_type": "code",
   "execution_count": null,
   "metadata": {},
   "outputs": [],
   "source": []
  }
 ],
 "metadata": {
  "kernelspec": {
   "display_name": "base",
   "language": "python",
   "name": "python3"
  },
  "language_info": {
   "codemirror_mode": {
    "name": "ipython",
    "version": 3
   },
   "file_extension": ".py",
   "mimetype": "text/x-python",
   "name": "python",
   "nbconvert_exporter": "python",
   "pygments_lexer": "ipython3",
   "version": "3.9.13"
  }
 },
 "nbformat": 4,
 "nbformat_minor": 2
}
