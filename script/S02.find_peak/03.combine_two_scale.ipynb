{
 "cells": [
  {
   "cell_type": "code",
   "execution_count": 31,
   "metadata": {},
   "outputs": [],
   "source": [
    "import pandas as pd\n",
    "import numpy as np\n",
    "import os\n",
    "from tqdm.auto import tqdm\n",
    "import h3pandas\n",
    "import matplotlib.pyplot as plt\n",
    "import warnings\n",
    "warnings.filterwarnings('ignore')"
   ]
  },
  {
   "cell_type": "code",
   "execution_count": 3,
   "metadata": {},
   "outputs": [
    {
     "data": {
      "text/plain": [
       "['all',\n",
       " 'Trophic_Niche_Aquatic_predator',\n",
       " 'Trophic_Niche_Frugivore',\n",
       " 'Trophic_Niche_Granivore',\n",
       " 'Trophic_Niche_Herbivore_aquatic',\n",
       " 'Trophic_Niche_Herbivore_terrestrial',\n",
       " 'Trophic_Niche_Invertivore',\n",
       " 'Trophic_Niche_Nectarivore',\n",
       " 'Trophic_Niche_Omnivore',\n",
       " 'Trophic_Niche_Scavenger',\n",
       " 'Trophic_Niche_Vertivore',\n",
       " 'Trophic_Level_Carnivore',\n",
       " 'Trophic_Level_Herbivore',\n",
       " 'Trophic_Level_Omnivore',\n",
       " 'Trophic_Level_Scavenger']"
      ]
     },
     "execution_count": 3,
     "metadata": {},
     "output_type": "execute_result"
    }
   ],
   "source": [
    "with open('../trophic_niches.txt', 'r') as f:\n",
    "    niches = f.read().strip().split('\\n')\n",
    "    \n",
    "niches\n",
    "    "
   ]
  },
  {
   "cell_type": "code",
   "execution_count": null,
   "metadata": {},
   "outputs": [],
   "source": []
  },
  {
   "cell_type": "code",
   "execution_count": 32,
   "metadata": {},
   "outputs": [
    {
     "name": "stdout",
     "output_type": "stream",
     "text": [
      "all\n"
     ]
    },
    {
     "data": {
      "application/vnd.jupyter.widget-view+json": {
       "model_id": "9dc656cf5a2242d6aad88f2d28844845",
       "version_major": 2,
       "version_minor": 0
      },
      "text/plain": [
       "  0%|          | 0/11 [00:00<?, ?it/s]"
      ]
     },
     "metadata": {},
     "output_type": "display_data"
    },
    {
     "name": "stdout",
     "output_type": "stream",
     "text": [
      "Trophic_Niche_Aquatic_predator\n"
     ]
    },
    {
     "data": {
      "application/vnd.jupyter.widget-view+json": {
       "model_id": "56b54fc6b1ef4b8ba1c1527e78d04c1c",
       "version_major": 2,
       "version_minor": 0
      },
      "text/plain": [
       "  0%|          | 0/11 [00:00<?, ?it/s]"
      ]
     },
     "metadata": {},
     "output_type": "display_data"
    },
    {
     "name": "stdout",
     "output_type": "stream",
     "text": [
      "Trophic_Niche_Frugivore\n"
     ]
    },
    {
     "data": {
      "application/vnd.jupyter.widget-view+json": {
       "model_id": "2553e820475b447c9ab27c75c7b4420c",
       "version_major": 2,
       "version_minor": 0
      },
      "text/plain": [
       "  0%|          | 0/11 [00:00<?, ?it/s]"
      ]
     },
     "metadata": {},
     "output_type": "display_data"
    },
    {
     "name": "stdout",
     "output_type": "stream",
     "text": [
      "Trophic_Niche_Granivore\n"
     ]
    },
    {
     "data": {
      "application/vnd.jupyter.widget-view+json": {
       "model_id": "56d334cffadd4415bf94f45995256dcb",
       "version_major": 2,
       "version_minor": 0
      },
      "text/plain": [
       "  0%|          | 0/11 [00:00<?, ?it/s]"
      ]
     },
     "metadata": {},
     "output_type": "display_data"
    },
    {
     "name": "stdout",
     "output_type": "stream",
     "text": [
      "Trophic_Niche_Herbivore_aquatic\n"
     ]
    },
    {
     "data": {
      "application/vnd.jupyter.widget-view+json": {
       "model_id": "590fc7f47aeb45f183c235fdad45464e",
       "version_major": 2,
       "version_minor": 0
      },
      "text/plain": [
       "  0%|          | 0/11 [00:00<?, ?it/s]"
      ]
     },
     "metadata": {},
     "output_type": "display_data"
    },
    {
     "name": "stdout",
     "output_type": "stream",
     "text": [
      "Trophic_Niche_Herbivore_terrestrial\n"
     ]
    },
    {
     "data": {
      "application/vnd.jupyter.widget-view+json": {
       "model_id": "9b7fb2fd9e824d59aec0b1ddcad1c5a6",
       "version_major": 2,
       "version_minor": 0
      },
      "text/plain": [
       "  0%|          | 0/11 [00:00<?, ?it/s]"
      ]
     },
     "metadata": {},
     "output_type": "display_data"
    },
    {
     "name": "stdout",
     "output_type": "stream",
     "text": [
      "Trophic_Niche_Invertivore\n"
     ]
    },
    {
     "data": {
      "application/vnd.jupyter.widget-view+json": {
       "model_id": "f027ff239f9a45deb3a1a4d8b41e210e",
       "version_major": 2,
       "version_minor": 0
      },
      "text/plain": [
       "  0%|          | 0/11 [00:00<?, ?it/s]"
      ]
     },
     "metadata": {},
     "output_type": "display_data"
    },
    {
     "name": "stdout",
     "output_type": "stream",
     "text": [
      "Trophic_Niche_Nectarivore\n"
     ]
    },
    {
     "data": {
      "application/vnd.jupyter.widget-view+json": {
       "model_id": "ba9488c6df9c4494af550eedf6809ddd",
       "version_major": 2,
       "version_minor": 0
      },
      "text/plain": [
       "  0%|          | 0/11 [00:00<?, ?it/s]"
      ]
     },
     "metadata": {},
     "output_type": "display_data"
    },
    {
     "name": "stdout",
     "output_type": "stream",
     "text": [
      "Trophic_Niche_Omnivore\n"
     ]
    },
    {
     "data": {
      "application/vnd.jupyter.widget-view+json": {
       "model_id": "91367f6d0de146488535409be21b9dcc",
       "version_major": 2,
       "version_minor": 0
      },
      "text/plain": [
       "  0%|          | 0/11 [00:00<?, ?it/s]"
      ]
     },
     "metadata": {},
     "output_type": "display_data"
    },
    {
     "name": "stdout",
     "output_type": "stream",
     "text": [
      "Trophic_Niche_Scavenger\n"
     ]
    },
    {
     "data": {
      "application/vnd.jupyter.widget-view+json": {
       "model_id": "327a3621c76d46a4a137f85995b2449d",
       "version_major": 2,
       "version_minor": 0
      },
      "text/plain": [
       "  0%|          | 0/11 [00:00<?, ?it/s]"
      ]
     },
     "metadata": {},
     "output_type": "display_data"
    },
    {
     "name": "stdout",
     "output_type": "stream",
     "text": [
      "Trophic_Niche_Vertivore\n"
     ]
    },
    {
     "data": {
      "application/vnd.jupyter.widget-view+json": {
       "model_id": "4cc81de53b254196a5f13d05c2ff3222",
       "version_major": 2,
       "version_minor": 0
      },
      "text/plain": [
       "  0%|          | 0/11 [00:00<?, ?it/s]"
      ]
     },
     "metadata": {},
     "output_type": "display_data"
    },
    {
     "name": "stdout",
     "output_type": "stream",
     "text": [
      "Trophic_Level_Carnivore\n"
     ]
    },
    {
     "data": {
      "application/vnd.jupyter.widget-view+json": {
       "model_id": "1f4b85dfb61842ec970da0dd79a4b5fd",
       "version_major": 2,
       "version_minor": 0
      },
      "text/plain": [
       "  0%|          | 0/11 [00:00<?, ?it/s]"
      ]
     },
     "metadata": {},
     "output_type": "display_data"
    },
    {
     "name": "stdout",
     "output_type": "stream",
     "text": [
      "Trophic_Level_Herbivore\n"
     ]
    },
    {
     "data": {
      "application/vnd.jupyter.widget-view+json": {
       "model_id": "b4db4146228f4e79b6a59668bdf4fc79",
       "version_major": 2,
       "version_minor": 0
      },
      "text/plain": [
       "  0%|          | 0/11 [00:00<?, ?it/s]"
      ]
     },
     "metadata": {},
     "output_type": "display_data"
    },
    {
     "name": "stdout",
     "output_type": "stream",
     "text": [
      "Trophic_Level_Omnivore\n"
     ]
    },
    {
     "data": {
      "application/vnd.jupyter.widget-view+json": {
       "model_id": "ee82feff491a425aaa8dd0c9b5abb4f4",
       "version_major": 2,
       "version_minor": 0
      },
      "text/plain": [
       "  0%|          | 0/11 [00:00<?, ?it/s]"
      ]
     },
     "metadata": {},
     "output_type": "display_data"
    },
    {
     "name": "stdout",
     "output_type": "stream",
     "text": [
      "Trophic_Level_Scavenger\n"
     ]
    },
    {
     "data": {
      "application/vnd.jupyter.widget-view+json": {
       "model_id": "d53ed615b42743feb574ea6af5e15664",
       "version_major": 2,
       "version_minor": 0
      },
      "text/plain": [
       "  0%|          | 0/11 [00:00<?, ?it/s]"
      ]
     },
     "metadata": {},
     "output_type": "display_data"
    }
   ],
   "source": [
    "all_dat = []\n",
    "for niche in niches:\n",
    "    print(niche)\n",
    "    all_year_set = list(range(2010, 2021))\n",
    "    target_year_set = list(range(2016, 2021))\n",
    "    season_set = ['spring','fall']\n",
    "    for year in tqdm(all_year_set):\n",
    "        for season in season_set:\n",
    "            file1_path = f'../../data/D02.wave_peak/{season}_max_birdwave_day_{niche}_{year}_10_40_20_50.csv'\n",
    "            file2_path = f'../../data/D02.wave_peak/{season}_max_birdwave_day_{niche}_{year}_10_100_30_80.csv'\n",
    "            \n",
    "            if not (os.path.exists(file1_path) and os.path.exists(file2_path)):\n",
    "                print(f'Not {niche}')\n",
    "            \n",
    "            file1 = pd.read_csv(file1_path)\n",
    "            file1['source_model'] = '10_40_20_50'\n",
    "            \n",
    "            if year in target_year_set:\n",
    "                file2 = pd.read_csv(file2_path)\n",
    "                grid_set = file2.h3_02.unique()\n",
    "                event_logger = []\n",
    "                        \n",
    "                for grid in grid_set:\n",
    "                    sub_file1 = file1[(file1['h3_02']==grid)]\n",
    "                    task = None\n",
    "                    if len(sub_file1)==0:\n",
    "                        task = 'to_combine'\n",
    "                    else:\n",
    "                        if len(sub_file1)>1:\n",
    "                            raise ValueError('more than 1 row?')\n",
    "                        else:\n",
    "                            if np.isnan(sub_file1['mean_DOY_peak'].iloc[0]):\n",
    "                                task = 'to_fill'\n",
    "                            else:\n",
    "                                task = 'all_good'\n",
    "\n",
    "                    if task == 'all_good':\n",
    "                        continue\n",
    "\n",
    "                    candidate = file2[(file2['h3_02']==grid)]\n",
    "                    candidate['source_model'] = '10_100_30_80'\n",
    "                    if len(candidate)==0:\n",
    "                        continue\n",
    "                    else:\n",
    "                        if len(candidate)>1:\n",
    "                            raise ValueError('candidate more than 1 row?')\n",
    "                        else:\n",
    "                            if np.isnan(candidate['mean_DOY_peak'].iloc[0]):\n",
    "                                continue\n",
    "                            else:\n",
    "                                if task == 'to_combine':\n",
    "                                    file1 = pd.concat([file1, candidate], axis=0).reset_index(drop=True)\n",
    "                                elif task == 'to_fill':\n",
    "                                    file1.loc[sub_file1.index,:] = candidate.values\n",
    "                                    file1.loc[sub_file1.index,'source_model'] = '10_100_30_80'\n",
    "                                else:\n",
    "                                    print(task)\n",
    "                                    raise\n",
    "\n",
    "                                event_logger.append({\n",
    "                                    'grid':grid,\n",
    "                                    'year':int(year),\n",
    "                                    'season':season\n",
    "                                })\n",
    "                            \n",
    "            file1['season'] = season\n",
    "            file1['year'] = year\n",
    "            file1['niche_or_level'] = niche\n",
    "            all_dat.append(file1)\n",
    "\n",
    "all_dat = pd.concat(all_dat, axis=0).reset_index(drop=True)\n",
    "    "
   ]
  },
  {
   "cell_type": "code",
   "execution_count": 33,
   "metadata": {},
   "outputs": [
    {
     "data": {
      "text/plain": [
       "<Axes: >"
      ]
     },
     "execution_count": 33,
     "metadata": {},
     "output_type": "execute_result"
    },
    {
     "data": {
      "image/png": "[encoded data removed]",
      "text/plain": [
       "<Figure size 640x480 with 1 Axes>"
      ]
     },
     "metadata": {},
     "output_type": "display_data"
    }
   ],
   "source": [
    "all_dat['source_model'].hist()\n"
   ]
  },
  {
   "cell_type": "code",
   "execution_count": 38,
   "metadata": {},
   "outputs": [
    {
     "data": {
      "text/plain": [
       "0.8954462426837412"
      ]
     },
     "execution_count": 38,
     "metadata": {},
     "output_type": "execute_result"
    }
   ],
   "source": [
    "all_dat = all_dat.dropna(subset=['mean_DOY_peak'])\n",
    "all_dat[all_dat['source_model']=='10_40_20_50'].shape[0] / all_dat.shape[0]"
   ]
  },
  {
   "cell_type": "code",
   "execution_count": 40,
   "metadata": {},
   "outputs": [
    {
     "data": {
      "text/plain": [
       "0.9103804693214385"
      ]
     },
     "execution_count": 40,
     "metadata": {},
     "output_type": "execute_result"
    }
   ],
   "source": [
    "all_dat[(all_dat['lat']>=0) & (all_dat['source_model']=='10_40_20_50')].shape[0] / all_dat[(all_dat['lat']>=0)].shape[0]\n"
   ]
  },
  {
   "cell_type": "code",
   "execution_count": 41,
   "metadata": {},
   "outputs": [],
   "source": [
    "all_dat.to_csv('../../data/D02.wave_peak/all_birdwave_peak.csv', index=False)\n"
   ]
  }
 ],
 "metadata": {
  "kernelspec": {
   "display_name": "base",
   "language": "python",
   "name": "python3"
  },
  "language_info": {
   "codemirror_mode": {
    "name": "ipython",
    "version": 3
   },
   "file_extension": ".py",
   "mimetype": "text/x-python",
   "name": "python",
   "nbconvert_exporter": "python",
   "pygments_lexer": "ipython3",
   "version": "3.9.13"
  }
 },
 "nbformat": 4,
 "nbformat_minor": 2
}
